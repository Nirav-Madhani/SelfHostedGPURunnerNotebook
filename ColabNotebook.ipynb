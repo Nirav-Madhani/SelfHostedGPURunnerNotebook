{
  "cells": [
    {
      "cell_type": "code",
      "execution_count": null,
      "metadata": {
        "colab": {
          "base_uri": "https://localhost:8080/"
        },
        "id": "cH54ZH_dx-TB",
        "outputId": "d1287b2e-9503-447e-bd29-04f4c33390df"
      },
      "outputs": [
        {
          "name": "stdout",
          "output_type": "stream",
          "text": [
            "Mounted at /content/drive\n"
          ]
        }
      ],
      "source": [
        "from IPython.display import clear_output\n",
        "from google.colab import drive\n",
        "drive.mount('/content/drive')"
      ]
    },
    {
      "cell_type": "code",
      "execution_count": null,
      "metadata": {},
      "outputs": [],
      "source": [
        "# Check GPU. Helps to verify if you have change the runtime to GPU or not.\n",
        "!nvidia-smi"
      ]
    },
    {
      "cell_type": "code",
      "execution_count": null,
      "metadata": {
        "id": "a_p_zFEN73nf"
      },
      "outputs": [],
      "source": [
        "# Perform the installation\n",
        "!mkdir actions-runner\n",
        "%cd actions-runner\n",
        "!curl -o actions-runner-linux-x64-2.315.0.tar.gz -L https://github.com/actions/runner/releases/download/v2.315.0/actions-runner-linux-x64-2.315.0.tar.gz\n",
        "!tar xzf ./actions-runner-linux-x64-2.315.0.tar.gz\n",
        "clear_output()"
      ]
    },
    {
      "cell_type": "code",
      "execution_count": null,
      "metadata": {},
      "outputs": [],
      "source": [
        "repo_name = \"\"\n",
        "if repo_name == \"\":\n",
        "    repo_name = input(\"Enter repo name: \")"
      ]
    },
    {
      "cell_type": "markdown",
      "metadata": {
        "id": "BPbuA2jb4VME"
      },
      "source": [
        "# First Time"
      ]
    },
    {
      "cell_type": "code",
      "execution_count": null,
      "metadata": {
        "id": "2w7vw3zu4XG2"
      },
      "outputs": [],
      "source": [
        "!RUNNER_ALLOW_RUNASROOT=\"1\" ./config.sh --url <github repo url> --token <token copied in step 7> --unattended  --disableupdate\n",
        "clear_output()"
      ]
    },
    {
      "cell_type": "code",
      "execution_count": null,
      "metadata": {
        "id": "3DA_zHg839z8"
      },
      "outputs": [],
      "source": [
        "import shutil\n",
        "import os\n",
        "dest_dir = f'/content/drive/My Drive/github-runner/{repo_name}/'\n",
        "source_dir = '/content/actions-runner/'\n",
        "files_to_copy = ['.credentials', '.credentials_rsaparams', '.env', '.path', '.runner']\n",
        "if not os.path.exists(dest_dir):\n",
        "    os.makedirs(dest_dir)\n",
        "\n",
        "# Copy each file to the destination directory\n",
        "for file_name in files_to_copy:\n",
        "    shutil.copy(os.path.join(source_dir, file_name), os.path.join(dest_dir, file_name))"
      ]
    },
    {
      "cell_type": "markdown",
      "metadata": {
        "id": "9cujM0Gp4YIT"
      },
      "source": [
        "# Next Time"
      ]
    },
    {
      "cell_type": "code",
      "execution_count": null,
      "metadata": {
        "id": "qLsmFKfl4Z-9"
      },
      "outputs": [],
      "source": [
        "import shutil\n",
        "import os\n",
        "\n",
        "# Define the destination directory (where files were initially copied)\n",
        "dest_dir = '/content/drive/My Drive/github-runner/'\n",
        "\n",
        "# Define the source directory (where you want to copy the files back)\n",
        "source_dir = f'/content/actions-runner/{repo_name}/'\n",
        "\n",
        "# List of files to copy back\n",
        "files_to_copy = ['.credentials', '.credentials_rsaparams', '.env', '.path', '.runner']\n",
        "\n",
        "for file_name in files_to_copy:\n",
        "    shutil.copy(os.path.join(dest_dir, file_name), os.path.join(source_dir, file_name))"
      ]
    },
    {
      "cell_type": "markdown",
      "metadata": {
        "id": "YiHswX904gIM"
      },
      "source": [
        "# Rest"
      ]
    },
    {
      "cell_type": "code",
      "execution_count": null,
      "metadata": {
        "id": "9w5hzYhydr2s"
      },
      "outputs": [],
      "source": [
        "%load_ext tensorboard\n",
        "%tensorboard --logdir <>"
      ]
    },
    {
      "cell_type": "code",
      "execution_count": null,
      "metadata": {
        "colab": {
          "base_uri": "https://localhost:8080/"
        },
        "id": "Rp0zTEO_RgAh",
        "outputId": "919e6e8d-27bc-4882-9b20-9ba6ca23c0c7"
      },
      "outputs": [
        {
          "name": "stdout",
          "output_type": "stream",
          "text": [
            "\u001b[?1h\u001b=\n",
            "\u001b[m\u001b[32m√ \u001b[mConnected to GitHub\n",
            "\n",
            "Current runner version: '2.315.0'\n",
            "2024-05-03 19:55:33Z: Listening for Jobs\n",
            "Exiting...\n",
            "Runner listener exit with 0 return code, stop the service, no retry needed.\n",
            "Exiting runner...\n"
          ]
        }
      ],
      "source": [
        "!RUNNER_ALLOW_RUNASROOT=\"1\" ./run.sh"
      ]
    }
  ],
  "metadata": {
    "accelerator": "GPU",
    "colab": {
      "collapsed_sections": [
        "BPbuA2jb4VME"
      ],
      "gpuType": "T4",
      "provenance": []
    },
    "kernelspec": {
      "display_name": "Python 3",
      "name": "python3"
    },
    "language_info": {
      "name": "python"
    }
  },
  "nbformat": 4,
  "nbformat_minor": 0
}
